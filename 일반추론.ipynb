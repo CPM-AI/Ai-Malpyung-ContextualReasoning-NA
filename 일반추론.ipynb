{
 "cells": [
  {
   "cell_type": "code",
   "execution_count": null,
   "id": "594eb5f2-78b2-4606-bd7e-dda07a3c9efc",
   "metadata": {},
   "outputs": [],
   "source": [
    "pip install torch\n",
    "pip install transformers\n",
    "pip install accelerate"
   ]
  },
  {
   "cell_type": "markdown",
   "id": "169c22f3-2f49-41d3-8263-356bc89efa3a",
   "metadata": {},
   "source": [
    "## 설치 후 커널 재시작"
   ]
  },
  {
   "cell_type": "code",
   "execution_count": 1,
   "id": "7e478a6f-05af-46f7-b8f1-8145dd6fce35",
   "metadata": {},
   "outputs": [],
   "source": [
    "import torch\n",
    "from transformers import AutoTokenizer, AutoModelForCausalLM, TextStreamer"
   ]
  },
  {
   "cell_type": "code",
   "execution_count": null,
   "id": "b0871bac-9b64-4eec-aa2c-80123e0843f9",
   "metadata": {},
   "outputs": [],
   "source": [
    "BASE_MODEL = \"cpm-ai/gemma2-maerak-sota\"\n",
    "\n",
    "model = AutoModelForCausalLM.from_pretrained(BASE_MODEL,\n",
    "                                             torch_dtype=torch.float16,\n",
    "                                             device_map={\"\":0},\n",
    "                                            )\n",
    "tokenizer = AutoTokenizer.from_pretrained(BASE_MODEL)\n",
    "streamer = TextStreamer(tokenizer)"
   ]
  },
  {
   "cell_type": "code",
   "execution_count": 3,
   "id": "707f956c-eb87-4867-81b3-309ebbee816b",
   "metadata": {},
   "outputs": [],
   "source": [
    "chat = [\n",
    "    { \"role\": \"user\", \"content\": \"\"\"[Conversation]\n",
    "화자1: 복수전공이면 엄청 힘들었을 것 같은데요\n",
    "화자2: 엄마 집에 있으니까 단점이 있어요\n",
    "화자1: 어떤 단점이지요\n",
    "화자2: 화장실 이용\n",
    "화자1: 계속 말 것이나요\n",
    "화자2: 엄마가 맨날 거실에 계시는데\n",
    "화자1: 아 겹치나요\n",
    "화자2: 거실에 화장실이 있거든요\n",
    "화자2: 큰 볼일을 못 보겠어요\n",
    "화자1: 아 이럴 수가\n",
    "화자2: 제가 화장실을 가리거든요\n",
    "화자1: 음악을 크게 틀어 놓는 건 어떤가요\n",
    "화자1: 배 아프면 일상 생활이 잘 안 되잖아요\n",
    "화자2: 그게 더 티나잖아요\n",
    "화자1: 그렇다면 차라리 방귀 뀌는음을 다운 받아서 틀어 놓고 편하게 사세요\n",
    "화자2: 음파가 다르답니다 뚫고나와요\n",
    "화자2: 그래서 제가 아침 일찍\n",
    "화자1: 누가 방귀 뀌는 g 똥 싸는지 모르게 한번 틀어 놓고 싸 보세요\n",
    "화자2: 카페로 옵니다\n",
    "화자2: 화장실이 세 칸 있어요\n",
    "화자1: 카페 등 편한 가요\n",
    "화자1: 화장실에 사람 많이 없네요\n",
    "화자2: 여기서 편하게 봐요\n",
    "화자2: 아침엔 카페에 사람이 없어요\n",
    "\n",
    "[Question]\n",
    "위 대화의 원인으로 올바른 지문은?\n",
    "\n",
    "[Option]\n",
    "A. 화자2의 자취 집에 있는 거실 화장실은 방음이 잘 안된다.\n",
    "B. 화자2의 어머님 집 거실에 있는 화장실은 방음이 잘 안된다.\n",
    "C. 화자2의 어머님 집 거실에 있는 화장실은 방음이 잘된다.\"\"\" },\n",
    "]\n"
   ]
  },
  {
   "cell_type": "code",
   "execution_count": null,
   "id": "55073d12-2d70-4680-9959-6c1db33fbfc2",
   "metadata": {},
   "outputs": [],
   "source": [
    "prompt = tokenizer.apply_chat_template(chat, tokenize=False, add_generation_prompt=True)\n",
    "inputs = tokenizer.encode(prompt, add_special_tokens=False, return_tensors=\"pt\")\n",
    "outputs = model.generate(input_ids=inputs.to(model.device), \n",
    "                         max_new_tokens=1024,\n",
    "                         do_sample=False,\n",
    "                         streamer=streamer\n",
    "                        )"
   ]
  }
 ],
 "metadata": {
  "kernelspec": {
   "display_name": "malpyung_test",
   "language": "python",
   "name": "malpyung_test"
  },
  "language_info": {
   "codemirror_mode": {
    "name": "ipython",
    "version": 3
   },
   "file_extension": ".py",
   "mimetype": "text/x-python",
   "name": "python",
   "nbconvert_exporter": "python",
   "pygments_lexer": "ipython3",
   "version": "3.10.14"
  }
 },
 "nbformat": 4,
 "nbformat_minor": 5
}
